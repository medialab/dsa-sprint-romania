{
 "cells": [
  {
   "cell_type": "markdown",
   "id": "efe6c7eb-3991-46de-a193-d161e8f2e4b9",
   "metadata": {
    "tags": []
   },
   "source": [
    "## 1. Download commercial contents targeting Romania before the 2024 election"
   ]
  },
  {
   "cell_type": "code",
   "execution_count": null,
   "id": "f556be2a",
   "metadata": {},
   "outputs": [],
   "source": [
    "! minet tiktok scrape-commercials --country RO --min-date 20241106 --max-date 20241207 > romania-20241106-20241206.csv"
   ]
  },
  {
   "cell_type": "markdown",
   "id": "d2f3a661-3997-4952-8e25-365b631bf254",
   "metadata": {},
   "source": [
    "The command above, using [**minet**](https://github.com/medialab/minet) Command Line Interface (CLI) is roughly equivalent to the Python code below, except that the CLI deals with retries in case of connection error."
   ]
  },
  {
   "cell_type": "code",
   "execution_count": null,
   "id": "5d0ce261-466d-4031-80b8-5777b5baab47",
   "metadata": {},
   "outputs": [],
   "source": [
    "from minet.tiktok import TiktokAPIScraper\n",
    "from minet.tiktok.types import TiktokCommercialContent\n",
    "from tqdm import tqdm\n",
    "import csv\n",
    "\n",
    "client = TiktokAPIScraper()\n",
    "generator = client.search_commercial_contents(\n",
    "    country=\"RO\", min_date=\"20241106\", max_date=\"20241207\"\n",
    ")\n",
    "with open(\"romania-20241106-20241206-2.csv\", \"w\") as f:\n",
    "    writer = csv.DictWriter(f, fieldnames=TiktokCommercialContent.fieldnames(), escapechar='\"')\n",
    "    writer.writeheader()\n",
    "    for row in tqdm(generator, total=11896):\n",
    "        writer.writerow(row.as_csv_dict_row())"
   ]
  },
  {
   "cell_type": "markdown",
   "id": "e84bdaf0-af93-4a86-8940-4076ff48ff3f",
   "metadata": {
    "jp-MarkdownHeadingCollapsed": true,
    "tags": []
   },
   "source": [
    "## 2. Fetch cover images associated to each TikTok commercial content"
   ]
  },
  {
   "cell_type": "code",
   "execution_count": null,
   "id": "101d11dc",
   "metadata": {},
   "outputs": [],
   "source": [
    "! minet fetch -i romania-20241106-20241206.csv video_cover_image_urls  --folder-strategy prefix-4 --filename-column id --total 11896 --resume --domain-parallelism 4 --throttle 0 -o romania-20241106-20241206-fetch-report.csv"
   ]
  },
  {
   "cell_type": "markdown",
   "id": "690f5ac9-583a-4341-ad46-822fc9ab0b81",
   "metadata": {
    "tags": []
   },
   "source": [
    "## 3. Run Optical Character Recognition (OCR) on images"
   ]
  },
  {
   "cell_type": "code",
   "execution_count": null,
   "id": "879fa6a0-367d-4c3f-b91c-4941083e291d",
   "metadata": {},
   "outputs": [],
   "source": [
    "import easyocr\n",
    "import casanova\n",
    "import os\n",
    "from tqdm import tqdm"
   ]
  },
  {
   "cell_type": "code",
   "execution_count": null,
   "id": "3ddd54c7-a1c8-4756-867f-1bf9c7703246",
   "metadata": {},
   "outputs": [],
   "source": [
    "reader = easyocr.Reader([\"ro\"])\n",
    "\n",
    "with open(\"romania-20241106-20241206-fetch-report.csv\", \"r\") as fetch_report, open(\"romania-20241106-20241206-ocr.csv\", \"w\") as output:\n",
    "    enricher = casanova.enricher(fetch_report, output, add=[\"ocr\"])\n",
    "\n",
    "    path_position = enricher.headers.path\n",
    "    for row in tqdm(enricher, total=11896):\n",
    "        if row[path_position]:\n",
    "            result = reader.readtext(os.path.join(\"downloaded\", row[path_position]))\n",
    "            full_text = \" \".join(text[1] for text in result)\n",
    "            enricher.writerow(row, [full_text])\n",
    "        else:\n",
    "            enricher.writerow(row, [\"\"])"
   ]
  },
  {
   "cell_type": "markdown",
   "id": "ff72ef03-b64f-4a4f-8e0c-8286dee14c76",
   "metadata": {
    "tags": []
   },
   "source": [
    "## 4. Plot number of images where some text was detected"
   ]
  },
  {
   "cell_type": "code",
   "execution_count": null,
   "id": "0cef8cb5-b083-4bb3-8429-a1dc8f25b31e",
   "metadata": {},
   "outputs": [],
   "source": [
    "import pandas as pd\n",
    "import altair as alt"
   ]
  },
  {
   "cell_type": "code",
   "execution_count": null,
   "id": "8b3bfc56-8291-4e0d-88d1-696b4c36be54",
   "metadata": {},
   "outputs": [],
   "source": [
    "ocr_data = pd.read_csv(\"romania-20241106-20241206-ocr.csv\")\n",
    "ocr_data[\"create_date\"].min()"
   ]
  },
  {
   "cell_type": "code",
   "execution_count": null,
   "id": "42d63cb7-d6b4-40b9-ba07-4e52803178d3",
   "metadata": {},
   "outputs": [],
   "source": [
    "ocr_data[\"date\"] = pd.to_datetime(ocr_data[\"create_date\"]).dt.strftime('%Y-%m-%d')"
   ]
  },
  {
   "cell_type": "code",
   "execution_count": null,
   "id": "329aaa7e-9c6b-4809-a779-1b5cea2beb1b",
   "metadata": {},
   "outputs": [],
   "source": [
    "ocr_data = ocr_data.loc[ocr_data.date > '2024-11-05']"
   ]
  },
  {
   "cell_type": "code",
   "execution_count": null,
   "id": "4b95a844-4d09-466d-b558-99cc20cd5ce7",
   "metadata": {},
   "outputs": [],
   "source": [
    "ocr_data[\"create_date\"].min()"
   ]
  },
  {
   "cell_type": "code",
   "execution_count": null,
   "id": "9175fbbb-3342-43ba-8c90-574c1d2a420a",
   "metadata": {},
   "outputs": [],
   "source": [
    "ocr_data[\"text_detected\"] = ocr_data.ocr.notna()"
   ]
  },
  {
   "cell_type": "code",
   "execution_count": null,
   "id": "a7428c00-75eb-45e5-b3d8-8395130d054f",
   "metadata": {},
   "outputs": [],
   "source": [
    "aggregation_lower = ocr_data.groupby([\"date\", \"text_detected\"]).count()[\"id\"].reset_index().rename(columns={\"id\": \"count\"})"
   ]
  },
  {
   "cell_type": "code",
   "execution_count": null,
   "id": "cb21241d-7b4a-4dda-b95a-42972c20c322",
   "metadata": {},
   "outputs": [],
   "source": [
    "text_detection_chart = alt.Chart(aggregation_lower).mark_bar().encode(\n",
    "    x=alt.X('monthdate(date):O', title=''),\n",
    "    y=alt.Y('sum(count)', title='Number of TikTok images'),\n",
    "    #tooltip='count:Q',\n",
    "    color=alt.Color(\"text_detected:O\", legend=alt.Legend(title='Text in image')),\n",
    "    #row=alt.Row(\"candidate:N\", title=''),\n",
    ").properties(height=150, width=500)"
   ]
  },
  {
   "cell_type": "code",
   "execution_count": null,
   "id": "5d9cc68c-2359-49f5-9973-f0ec6f5cd94a",
   "metadata": {},
   "outputs": [],
   "source": [
    "text_detection_chart"
   ]
  },
  {
   "cell_type": "markdown",
   "id": "ea37f21e-834e-4d1e-9ad6-66aa86ce1481",
   "metadata": {},
   "source": [
    "## 5. Look for names of candidates for the 2024 presidential election"
   ]
  },
  {
   "cell_type": "code",
   "execution_count": null,
   "id": "213c22b2-4be1-4081-9470-719a294d522a",
   "metadata": {
    "tags": []
   },
   "outputs": [],
   "source": [
    "candidates = [\"Călin Georgescu\", \"Elena Lasconi\", \"Marcel Ciolacu\", \"George Simion\", \"Nicolae Ciucă\", ]"
   ]
  },
  {
   "cell_type": "code",
   "execution_count": null,
   "id": "625f50cc-ed1f-4847-b80e-ec11a3885688",
   "metadata": {},
   "outputs": [],
   "source": [
    "def normalize_name(name):\n",
    "    split = name.lower().split(\" \")\n",
    "    if len(split) > 1:\n",
    "        return split[1]\n",
    "    return split[0]"
   ]
  },
  {
   "cell_type": "code",
   "execution_count": null,
   "id": "a6b60608-e49b-4276-96ce-d1f65a3a6779",
   "metadata": {},
   "outputs": [],
   "source": [
    "normalize_name(candidates[1])"
   ]
  },
  {
   "cell_type": "markdown",
   "id": "cd979922-d0ac-43ef-96bc-bffdf0c8ee44",
   "metadata": {},
   "source": [
    "Search for the last name of each candidate. If several names are mentionned, the post is not counted."
   ]
  },
  {
   "cell_type": "code",
   "execution_count": null,
   "id": "9550dbd4-2d8d-4e0a-ad1c-91adf202485a",
   "metadata": {},
   "outputs": [],
   "source": [
    "ocr_found = ocr_data.loc[ocr_data.ocr.notna()].copy()\n",
    "ocr_found[\"candidate\"] = \"\"\n",
    "for candidate in candidates:\n",
    "    candidate_found = ocr_found.loc[ocr_found.ocr.str.lower().str.contains(normalize_name(candidate))]\n",
    "    for other_candidate in candidates:\n",
    "        if other_candidate != candidate:\n",
    "            candidate_found = candidate_found.loc[~candidate_found.ocr.str.lower().str.contains(normalize_name(other_candidate))]\n",
    "    ocr_found.loc[ocr_found.id.isin(candidate_found.id.unique()), \"candidate\"] = candidate"
   ]
  },
  {
   "cell_type": "code",
   "execution_count": null,
   "id": "42faa0f9-fcba-41ca-8975-c28598414d06",
   "metadata": {},
   "outputs": [],
   "source": [
    "ocr_found.loc[ocr_found.candidate != \"\"].to_csv(\"romania-20241106-20241206-candidates.csv\", index=False)"
   ]
  },
  {
   "cell_type": "code",
   "execution_count": null,
   "id": "762ac455-090b-4afc-a356-b5752d03dcc7",
   "metadata": {},
   "outputs": [],
   "source": [
    "aggregation_upper = ocr_found.groupby([\"date\", \"candidate\"]).count()[\"id\"].reset_index().rename(columns={\"id\": \"count\"})"
   ]
  },
  {
   "cell_type": "code",
   "execution_count": null,
   "id": "ac297bfe-c66e-4fdd-8117-8a3a4a6a172f",
   "metadata": {},
   "outputs": [],
   "source": [
    "missing_rows = aggregation_upper.copy()\n",
    "missing_rows[\"candidate\"] = \"Nicolae Ciucă\"\n",
    "missing_rows[\"count\"] = 0\n",
    "aggregation_upper = pd.concat([missing_rows, aggregation_upper])"
   ]
  },
  {
   "cell_type": "markdown",
   "id": "2bda1c30-f735-4b29-9bb2-6ad5ea1f4b16",
   "metadata": {},
   "source": [
    "## 6. Plot mentions of candidates in TikTok images"
   ]
  },
  {
   "cell_type": "code",
   "execution_count": null,
   "id": "1419cdef-f2a1-422d-b2cc-b29d06bc1bef",
   "metadata": {},
   "outputs": [],
   "source": [
    "palette = ['indigo', 'coral', \"palegreen\", \"gold\", 'cadetblue']"
   ]
  },
  {
   "cell_type": "code",
   "execution_count": null,
   "id": "e21625ef-f6b3-4b12-8348-f309e9218169",
   "metadata": {},
   "outputs": [],
   "source": [
    "\n",
    "candidates_chart = alt.Chart(aggregation_upper).transform_filter((alt.datum.candidate != \"\")).mark_bar().encode(\n",
    "    x=alt.X('monthdate(date):O', title=''),\n",
    "    y=alt.Y('count:Q', title='', scale=alt.Scale(domain=[0, 10])),\n",
    "    color=alt.Color(\"candidate:N\", legend=alt.Legend()).scale(range=palette),\n",
    "    #tooltip='count:Q',\n",
    "    row=alt.Row(\"candidate:N\", title='Number of TikTok images mentioning one candidate').sort(candidates),\n",
    ").properties(height=60, width=500)"
   ]
  },
  {
   "cell_type": "code",
   "execution_count": null,
   "id": "db107669-d41c-4785-8f93-2ba0fc5622ab",
   "metadata": {},
   "outputs": [],
   "source": [
    "candidates_chart"
   ]
  },
  {
   "cell_type": "markdown",
   "id": "e745c598-ccb7-44b1-a39e-86ea349edce9",
   "metadata": {},
   "source": [
    "## 7. Plot both charts"
   ]
  },
  {
   "cell_type": "code",
   "execution_count": 81,
   "id": "4cf77b7e-6a3b-4c0e-9e0c-2e39ef056be0",
   "metadata": {},
   "outputs": [
    {
     "data": {
      "text/html": [
       "\n",
       "<style>\n",
       "  #altair-viz-099be0f66855453a88f49d77bf5f693b.vega-embed {\n",
       "    width: 100%;\n",
       "    display: flex;\n",
       "  }\n",
       "\n",
       "  #altair-viz-099be0f66855453a88f49d77bf5f693b.vega-embed details,\n",
       "  #altair-viz-099be0f66855453a88f49d77bf5f693b.vega-embed details summary {\n",
       "    position: relative;\n",
       "  }\n",
       "</style>\n",
       "<div id=\"altair-viz-099be0f66855453a88f49d77bf5f693b\"></div>\n",
       "<script type=\"text/javascript\">\n",
       "  var VEGA_DEBUG = (typeof VEGA_DEBUG == \"undefined\") ? {} : VEGA_DEBUG;\n",
       "  (function(spec, embedOpt){\n",
       "    let outputDiv = document.currentScript.previousElementSibling;\n",
       "    if (outputDiv.id !== \"altair-viz-099be0f66855453a88f49d77bf5f693b\") {\n",
       "      outputDiv = document.getElementById(\"altair-viz-099be0f66855453a88f49d77bf5f693b\");\n",
       "    }\n",
       "    const paths = {\n",
       "      \"vega\": \"https://cdn.jsdelivr.net/npm/vega@5?noext\",\n",
       "      \"vega-lib\": \"https://cdn.jsdelivr.net/npm/vega-lib?noext\",\n",
       "      \"vega-lite\": \"https://cdn.jsdelivr.net/npm/vega-lite@5.20.1?noext\",\n",
       "      \"vega-embed\": \"https://cdn.jsdelivr.net/npm/vega-embed@6?noext\",\n",
       "    };\n",
       "\n",
       "    function maybeLoadScript(lib, version) {\n",
       "      var key = `${lib.replace(\"-\", \"\")}_version`;\n",
       "      return (VEGA_DEBUG[key] == version) ?\n",
       "        Promise.resolve(paths[lib]) :\n",
       "        new Promise(function(resolve, reject) {\n",
       "          var s = document.createElement('script');\n",
       "          document.getElementsByTagName(\"head\")[0].appendChild(s);\n",
       "          s.async = true;\n",
       "          s.onload = () => {\n",
       "            VEGA_DEBUG[key] = version;\n",
       "            return resolve(paths[lib]);\n",
       "          };\n",
       "          s.onerror = () => reject(`Error loading script: ${paths[lib]}`);\n",
       "          s.src = paths[lib];\n",
       "        });\n",
       "    }\n",
       "\n",
       "    function showError(err) {\n",
       "      outputDiv.innerHTML = `<div class=\"error\" style=\"color:red;\">${err}</div>`;\n",
       "      throw err;\n",
       "    }\n",
       "\n",
       "    function displayChart(vegaEmbed) {\n",
       "      vegaEmbed(outputDiv, spec, embedOpt)\n",
       "        .catch(err => showError(`Javascript Error: ${err.message}<br>This usually means there's a typo in your chart specification. See the javascript console for the full traceback.`));\n",
       "    }\n",
       "\n",
       "    if(typeof define === \"function\" && define.amd) {\n",
       "      requirejs.config({paths});\n",
       "      require([\"vega-embed\"], displayChart, err => showError(`Error loading script: ${err.message}`));\n",
       "    } else {\n",
       "      maybeLoadScript(\"vega\", \"5\")\n",
       "        .then(() => maybeLoadScript(\"vega-lite\", \"5.20.1\"))\n",
       "        .then(() => maybeLoadScript(\"vega-embed\", \"6\"))\n",
       "        .catch(showError)\n",
       "        .then(() => displayChart(vegaEmbed));\n",
       "    }\n",
       "  })({\"config\": {\"view\": {\"continuousWidth\": 300, \"continuousHeight\": 300}}, \"vconcat\": [{\"data\": {\"name\": \"data-469e84c8c0e9f5673a3ec9c4511996c1\"}, \"mark\": {\"type\": \"bar\"}, \"encoding\": {\"color\": {\"field\": \"candidate\", \"legend\": {}, \"scale\": {\"range\": [\"indigo\", \"coral\", \"palegreen\", \"gold\", \"cadetblue\"]}, \"type\": \"nominal\"}, \"row\": {\"field\": \"candidate\", \"sort\": [\"C\\u0103lin Georgescu\", \"Elena Lasconi\", \"Marcel Ciolacu\", \"George Simion\", \"Nicolae Ciuc\\u0103\"], \"title\": \"Number of TikTok images mentioning one candidate\", \"type\": \"nominal\"}, \"x\": {\"field\": \"date\", \"timeUnit\": \"monthdate\", \"title\": \"\", \"type\": \"ordinal\"}, \"y\": {\"field\": \"count\", \"scale\": {\"domain\": [0, 10]}, \"title\": \"\", \"type\": \"quantitative\"}}, \"height\": 60, \"transform\": [{\"filter\": \"(datum.candidate !== '')\"}], \"width\": 500}, {\"data\": {\"name\": \"data-c08ebe2f360530eab7a965f09a6ec3b1\"}, \"mark\": {\"type\": \"bar\"}, \"encoding\": {\"color\": {\"field\": \"text_detected\", \"legend\": {\"title\": \"Text in image\"}, \"type\": \"ordinal\"}, \"x\": {\"field\": \"date\", \"timeUnit\": \"monthdate\", \"title\": \"\", \"type\": \"ordinal\"}, \"y\": {\"aggregate\": \"sum\", \"field\": \"count\", \"title\": \"Number of TikTok images\", \"type\": \"quantitative\"}}, \"height\": 150, \"width\": 500}], \"resolve\": {\"scale\": {\"color\": \"independent\"}}, \"$schema\": \"https://vega.github.io/schema/vega-lite/v5.20.1.json\", \"datasets\": {\"data-469e84c8c0e9f5673a3ec9c4511996c1\": [{\"date\": \"2024-11-06\", \"candidate\": \"Nicolae Ciuc\\u0103\", \"count\": 0}, {\"date\": \"2024-11-07\", \"candidate\": \"Nicolae Ciuc\\u0103\", \"count\": 0}, {\"date\": \"2024-11-08\", \"candidate\": \"Nicolae Ciuc\\u0103\", \"count\": 0}, {\"date\": \"2024-11-09\", \"candidate\": \"Nicolae Ciuc\\u0103\", \"count\": 0}, {\"date\": \"2024-11-10\", \"candidate\": \"Nicolae Ciuc\\u0103\", \"count\": 0}, {\"date\": \"2024-11-11\", \"candidate\": \"Nicolae Ciuc\\u0103\", \"count\": 0}, {\"date\": \"2024-11-12\", \"candidate\": \"Nicolae Ciuc\\u0103\", \"count\": 0}, {\"date\": \"2024-11-13\", \"candidate\": \"Nicolae Ciuc\\u0103\", \"count\": 0}, {\"date\": \"2024-11-14\", \"candidate\": \"Nicolae Ciuc\\u0103\", \"count\": 0}, {\"date\": \"2024-11-15\", \"candidate\": \"Nicolae Ciuc\\u0103\", \"count\": 0}, {\"date\": \"2024-11-16\", \"candidate\": \"Nicolae Ciuc\\u0103\", \"count\": 0}, {\"date\": \"2024-11-17\", \"candidate\": \"Nicolae Ciuc\\u0103\", \"count\": 0}, {\"date\": \"2024-11-18\", \"candidate\": \"Nicolae Ciuc\\u0103\", \"count\": 0}, {\"date\": \"2024-11-19\", \"candidate\": \"Nicolae Ciuc\\u0103\", \"count\": 0}, {\"date\": \"2024-11-20\", \"candidate\": \"Nicolae Ciuc\\u0103\", \"count\": 0}, {\"date\": \"2024-11-20\", \"candidate\": \"Nicolae Ciuc\\u0103\", \"count\": 0}, {\"date\": \"2024-11-21\", \"candidate\": \"Nicolae Ciuc\\u0103\", \"count\": 0}, {\"date\": \"2024-11-21\", \"candidate\": \"Nicolae Ciuc\\u0103\", \"count\": 0}, {\"date\": \"2024-11-22\", \"candidate\": \"Nicolae Ciuc\\u0103\", \"count\": 0}, {\"date\": \"2024-11-22\", \"candidate\": \"Nicolae Ciuc\\u0103\", \"count\": 0}, {\"date\": \"2024-11-23\", \"candidate\": \"Nicolae Ciuc\\u0103\", \"count\": 0}, {\"date\": \"2024-11-24\", \"candidate\": \"Nicolae Ciuc\\u0103\", \"count\": 0}, {\"date\": \"2024-11-24\", \"candidate\": \"Nicolae Ciuc\\u0103\", \"count\": 0}, {\"date\": \"2024-11-24\", \"candidate\": \"Nicolae Ciuc\\u0103\", \"count\": 0}, {\"date\": \"2024-11-25\", \"candidate\": \"Nicolae Ciuc\\u0103\", \"count\": 0}, {\"date\": \"2024-11-25\", \"candidate\": \"Nicolae Ciuc\\u0103\", \"count\": 0}, {\"date\": \"2024-11-25\", \"candidate\": \"Nicolae Ciuc\\u0103\", \"count\": 0}, {\"date\": \"2024-11-25\", \"candidate\": \"Nicolae Ciuc\\u0103\", \"count\": 0}, {\"date\": \"2024-11-26\", \"candidate\": \"Nicolae Ciuc\\u0103\", \"count\": 0}, {\"date\": \"2024-11-26\", \"candidate\": \"Nicolae Ciuc\\u0103\", \"count\": 0}, {\"date\": \"2024-11-26\", \"candidate\": \"Nicolae Ciuc\\u0103\", \"count\": 0}, {\"date\": \"2024-11-27\", \"candidate\": \"Nicolae Ciuc\\u0103\", \"count\": 0}, {\"date\": \"2024-11-27\", \"candidate\": \"Nicolae Ciuc\\u0103\", \"count\": 0}, {\"date\": \"2024-11-27\", \"candidate\": \"Nicolae Ciuc\\u0103\", \"count\": 0}, {\"date\": \"2024-11-28\", \"candidate\": \"Nicolae Ciuc\\u0103\", \"count\": 0}, {\"date\": \"2024-11-28\", \"candidate\": \"Nicolae Ciuc\\u0103\", \"count\": 0}, {\"date\": \"2024-11-28\", \"candidate\": \"Nicolae Ciuc\\u0103\", \"count\": 0}, {\"date\": \"2024-11-28\", \"candidate\": \"Nicolae Ciuc\\u0103\", \"count\": 0}, {\"date\": \"2024-11-29\", \"candidate\": \"Nicolae Ciuc\\u0103\", \"count\": 0}, {\"date\": \"2024-11-29\", \"candidate\": \"Nicolae Ciuc\\u0103\", \"count\": 0}, {\"date\": \"2024-11-30\", \"candidate\": \"Nicolae Ciuc\\u0103\", \"count\": 0}, {\"date\": \"2024-11-30\", \"candidate\": \"Nicolae Ciuc\\u0103\", \"count\": 0}, {\"date\": \"2024-11-30\", \"candidate\": \"Nicolae Ciuc\\u0103\", \"count\": 0}, {\"date\": \"2024-12-01\", \"candidate\": \"Nicolae Ciuc\\u0103\", \"count\": 0}, {\"date\": \"2024-12-01\", \"candidate\": \"Nicolae Ciuc\\u0103\", \"count\": 0}, {\"date\": \"2024-12-01\", \"candidate\": \"Nicolae Ciuc\\u0103\", \"count\": 0}, {\"date\": \"2024-12-01\", \"candidate\": \"Nicolae Ciuc\\u0103\", \"count\": 0}, {\"date\": \"2024-12-02\", \"candidate\": \"Nicolae Ciuc\\u0103\", \"count\": 0}, {\"date\": \"2024-12-02\", \"candidate\": \"Nicolae Ciuc\\u0103\", \"count\": 0}, {\"date\": \"2024-12-02\", \"candidate\": \"Nicolae Ciuc\\u0103\", \"count\": 0}, {\"date\": \"2024-12-03\", \"candidate\": \"Nicolae Ciuc\\u0103\", \"count\": 0}, {\"date\": \"2024-12-03\", \"candidate\": \"Nicolae Ciuc\\u0103\", \"count\": 0}, {\"date\": \"2024-12-04\", \"candidate\": \"Nicolae Ciuc\\u0103\", \"count\": 0}, {\"date\": \"2024-12-04\", \"candidate\": \"Nicolae Ciuc\\u0103\", \"count\": 0}, {\"date\": \"2024-12-05\", \"candidate\": \"Nicolae Ciuc\\u0103\", \"count\": 0}, {\"date\": \"2024-12-05\", \"candidate\": \"Nicolae Ciuc\\u0103\", \"count\": 0}, {\"date\": \"2024-12-06\", \"candidate\": \"Nicolae Ciuc\\u0103\", \"count\": 0}, {\"date\": \"2024-11-06\", \"candidate\": \"\", \"count\": 243}, {\"date\": \"2024-11-07\", \"candidate\": \"\", \"count\": 187}, {\"date\": \"2024-11-08\", \"candidate\": \"\", \"count\": 256}, {\"date\": \"2024-11-09\", \"candidate\": \"\", \"count\": 213}, {\"date\": \"2024-11-10\", \"candidate\": \"\", \"count\": 245}, {\"date\": \"2024-11-11\", \"candidate\": \"\", \"count\": 190}, {\"date\": \"2024-11-12\", \"candidate\": \"\", \"count\": 217}, {\"date\": \"2024-11-13\", \"candidate\": \"\", \"count\": 224}, {\"date\": \"2024-11-14\", \"candidate\": \"\", \"count\": 239}, {\"date\": \"2024-11-15\", \"candidate\": \"\", \"count\": 208}, {\"date\": \"2024-11-16\", \"candidate\": \"\", \"count\": 181}, {\"date\": \"2024-11-17\", \"candidate\": \"\", \"count\": 242}, {\"date\": \"2024-11-18\", \"candidate\": \"\", \"count\": 209}, {\"date\": \"2024-11-19\", \"candidate\": \"\", \"count\": 212}, {\"date\": \"2024-11-20\", \"candidate\": \"\", \"count\": 250}, {\"date\": \"2024-11-20\", \"candidate\": \"Marcel Ciolacu\", \"count\": 1}, {\"date\": \"2024-11-21\", \"candidate\": \"\", \"count\": 209}, {\"date\": \"2024-11-21\", \"candidate\": \"C\\u0103lin Georgescu\", \"count\": 1}, {\"date\": \"2024-11-22\", \"candidate\": \"\", \"count\": 298}, {\"date\": \"2024-11-22\", \"candidate\": \"C\\u0103lin Georgescu\", \"count\": 1}, {\"date\": \"2024-11-23\", \"candidate\": \"\", \"count\": 233}, {\"date\": \"2024-11-24\", \"candidate\": \"\", \"count\": 215}, {\"date\": \"2024-11-24\", \"candidate\": \"C\\u0103lin Georgescu\", \"count\": 1}, {\"date\": \"2024-11-24\", \"candidate\": \"Marcel Ciolacu\", \"count\": 1}, {\"date\": \"2024-11-25\", \"candidate\": \"\", \"count\": 240}, {\"date\": \"2024-11-25\", \"candidate\": \"C\\u0103lin Georgescu\", \"count\": 3}, {\"date\": \"2024-11-25\", \"candidate\": \"Elena Lasconi\", \"count\": 1}, {\"date\": \"2024-11-25\", \"candidate\": \"George Simion\", \"count\": 1}, {\"date\": \"2024-11-26\", \"candidate\": \"\", \"count\": 231}, {\"date\": \"2024-11-26\", \"candidate\": \"C\\u0103lin Georgescu\", \"count\": 4}, {\"date\": \"2024-11-26\", \"candidate\": \"Elena Lasconi\", \"count\": 4}, {\"date\": \"2024-11-27\", \"candidate\": \"\", \"count\": 241}, {\"date\": \"2024-11-27\", \"candidate\": \"C\\u0103lin Georgescu\", \"count\": 8}, {\"date\": \"2024-11-27\", \"candidate\": \"Elena Lasconi\", \"count\": 1}, {\"date\": \"2024-11-28\", \"candidate\": \"\", \"count\": 249}, {\"date\": \"2024-11-28\", \"candidate\": \"C\\u0103lin Georgescu\", \"count\": 1}, {\"date\": \"2024-11-28\", \"candidate\": \"Elena Lasconi\", \"count\": 1}, {\"date\": \"2024-11-28\", \"candidate\": \"George Simion\", \"count\": 1}, {\"date\": \"2024-11-29\", \"candidate\": \"\", \"count\": 248}, {\"date\": \"2024-11-29\", \"candidate\": \"C\\u0103lin Georgescu\", \"count\": 1}, {\"date\": \"2024-11-30\", \"candidate\": \"\", \"count\": 264}, {\"date\": \"2024-11-30\", \"candidate\": \"C\\u0103lin Georgescu\", \"count\": 1}, {\"date\": \"2024-11-30\", \"candidate\": \"Elena Lasconi\", \"count\": 1}, {\"date\": \"2024-12-01\", \"candidate\": \"\", \"count\": 280}, {\"date\": \"2024-12-01\", \"candidate\": \"C\\u0103lin Georgescu\", \"count\": 2}, {\"date\": \"2024-12-01\", \"candidate\": \"Elena Lasconi\", \"count\": 1}, {\"date\": \"2024-12-01\", \"candidate\": \"George Simion\", \"count\": 1}, {\"date\": \"2024-12-02\", \"candidate\": \"\", \"count\": 254}, {\"date\": \"2024-12-02\", \"candidate\": \"C\\u0103lin Georgescu\", \"count\": 2}, {\"date\": \"2024-12-02\", \"candidate\": \"Elena Lasconi\", \"count\": 1}, {\"date\": \"2024-12-03\", \"candidate\": \"\", \"count\": 283}, {\"date\": \"2024-12-03\", \"candidate\": \"C\\u0103lin Georgescu\", \"count\": 1}, {\"date\": \"2024-12-04\", \"candidate\": \"\", \"count\": 314}, {\"date\": \"2024-12-04\", \"candidate\": \"C\\u0103lin Georgescu\", \"count\": 3}, {\"date\": \"2024-12-05\", \"candidate\": \"\", \"count\": 241}, {\"date\": \"2024-12-05\", \"candidate\": \"C\\u0103lin Georgescu\", \"count\": 3}, {\"date\": \"2024-12-06\", \"candidate\": \"\", \"count\": 211}], \"data-c08ebe2f360530eab7a965f09a6ec3b1\": [{\"date\": \"2024-11-06\", \"text_detected\": false, \"count\": 150}, {\"date\": \"2024-11-06\", \"text_detected\": true, \"count\": 243}, {\"date\": \"2024-11-07\", \"text_detected\": false, \"count\": 180}, {\"date\": \"2024-11-07\", \"text_detected\": true, \"count\": 187}, {\"date\": \"2024-11-08\", \"text_detected\": false, \"count\": 147}, {\"date\": \"2024-11-08\", \"text_detected\": true, \"count\": 256}, {\"date\": \"2024-11-09\", \"text_detected\": false, \"count\": 176}, {\"date\": \"2024-11-09\", \"text_detected\": true, \"count\": 213}, {\"date\": \"2024-11-10\", \"text_detected\": false, \"count\": 162}, {\"date\": \"2024-11-10\", \"text_detected\": true, \"count\": 245}, {\"date\": \"2024-11-11\", \"text_detected\": false, \"count\": 202}, {\"date\": \"2024-11-11\", \"text_detected\": true, \"count\": 190}, {\"date\": \"2024-11-12\", \"text_detected\": false, \"count\": 158}, {\"date\": \"2024-11-12\", \"text_detected\": true, \"count\": 217}, {\"date\": \"2024-11-13\", \"text_detected\": false, \"count\": 137}, {\"date\": \"2024-11-13\", \"text_detected\": true, \"count\": 224}, {\"date\": \"2024-11-14\", \"text_detected\": false, \"count\": 153}, {\"date\": \"2024-11-14\", \"text_detected\": true, \"count\": 239}, {\"date\": \"2024-11-15\", \"text_detected\": false, \"count\": 123}, {\"date\": \"2024-11-15\", \"text_detected\": true, \"count\": 208}, {\"date\": \"2024-11-16\", \"text_detected\": false, \"count\": 168}, {\"date\": \"2024-11-16\", \"text_detected\": true, \"count\": 181}, {\"date\": \"2024-11-17\", \"text_detected\": false, \"count\": 147}, {\"date\": \"2024-11-17\", \"text_detected\": true, \"count\": 242}, {\"date\": \"2024-11-18\", \"text_detected\": false, \"count\": 145}, {\"date\": \"2024-11-18\", \"text_detected\": true, \"count\": 209}, {\"date\": \"2024-11-19\", \"text_detected\": false, \"count\": 153}, {\"date\": \"2024-11-19\", \"text_detected\": true, \"count\": 212}, {\"date\": \"2024-11-20\", \"text_detected\": false, \"count\": 94}, {\"date\": \"2024-11-20\", \"text_detected\": true, \"count\": 251}, {\"date\": \"2024-11-21\", \"text_detected\": false, \"count\": 174}, {\"date\": \"2024-11-21\", \"text_detected\": true, \"count\": 210}, {\"date\": \"2024-11-22\", \"text_detected\": false, \"count\": 124}, {\"date\": \"2024-11-22\", \"text_detected\": true, \"count\": 299}, {\"date\": \"2024-11-23\", \"text_detected\": false, \"count\": 162}, {\"date\": \"2024-11-23\", \"text_detected\": true, \"count\": 233}, {\"date\": \"2024-11-24\", \"text_detected\": false, \"count\": 138}, {\"date\": \"2024-11-24\", \"text_detected\": true, \"count\": 217}, {\"date\": \"2024-11-25\", \"text_detected\": false, \"count\": 153}, {\"date\": \"2024-11-25\", \"text_detected\": true, \"count\": 245}, {\"date\": \"2024-11-26\", \"text_detected\": false, \"count\": 139}, {\"date\": \"2024-11-26\", \"text_detected\": true, \"count\": 239}, {\"date\": \"2024-11-27\", \"text_detected\": false, \"count\": 127}, {\"date\": \"2024-11-27\", \"text_detected\": true, \"count\": 250}, {\"date\": \"2024-11-28\", \"text_detected\": false, \"count\": 118}, {\"date\": \"2024-11-28\", \"text_detected\": true, \"count\": 252}, {\"date\": \"2024-11-29\", \"text_detected\": false, \"count\": 146}, {\"date\": \"2024-11-29\", \"text_detected\": true, \"count\": 249}, {\"date\": \"2024-11-30\", \"text_detected\": false, \"count\": 135}, {\"date\": \"2024-11-30\", \"text_detected\": true, \"count\": 266}, {\"date\": \"2024-12-01\", \"text_detected\": false, \"count\": 135}, {\"date\": \"2024-12-01\", \"text_detected\": true, \"count\": 284}, {\"date\": \"2024-12-02\", \"text_detected\": false, \"count\": 155}, {\"date\": \"2024-12-02\", \"text_detected\": true, \"count\": 257}, {\"date\": \"2024-12-03\", \"text_detected\": false, \"count\": 127}, {\"date\": \"2024-12-03\", \"text_detected\": true, \"count\": 284}, {\"date\": \"2024-12-04\", \"text_detected\": false, \"count\": 108}, {\"date\": \"2024-12-04\", \"text_detected\": true, \"count\": 317}, {\"date\": \"2024-12-05\", \"text_detected\": false, \"count\": 125}, {\"date\": \"2024-12-05\", \"text_detected\": true, \"count\": 244}, {\"date\": \"2024-12-06\", \"text_detected\": false, \"count\": 146}, {\"date\": \"2024-12-06\", \"text_detected\": true, \"count\": 211}]}}, {\"mode\": \"vega-lite\"});\n",
       "</script>"
      ],
      "text/plain": [
       "alt.VConcatChart(...)"
      ]
     },
     "execution_count": 75,
     "metadata": {},
     "output_type": "execute_result"
    }
   ],
   "source": [
    "alt.vconcat(\n",
    "    candidates_chart, \n",
    "    text_detection_chart,   \n",
    "    resolve = alt.Resolve(scale=alt.LegendResolveMap(color=alt.ResolveMode('independent')))\n",
    ")"
   ]
  },
  {
   "cell_type": "code",
   "execution_count": null,
   "id": "abe57ba6-7552-414a-b1db-e183b17fc3a7",
   "metadata": {},
   "outputs": [],
   "source": []
  }
 ],
 "metadata": {
  "kernelspec": {
   "display_name": "Python 3 (ipykernel)",
   "language": "python",
   "name": "python3"
  },
  "language_info": {
   "codemirror_mode": {
    "name": "ipython",
    "version": 3
   },
   "file_extension": ".py",
   "mimetype": "text/x-python",
   "name": "python",
   "nbconvert_exporter": "python",
   "pygments_lexer": "ipython3",
   "version": "3.8.2"
  }
 },
 "nbformat": 4,
 "nbformat_minor": 5
}
